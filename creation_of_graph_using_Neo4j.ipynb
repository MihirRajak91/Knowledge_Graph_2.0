{
 "cells": [
  {
   "cell_type": "code",
   "execution_count": 40,
   "id": "18ef2f4c",
   "metadata": {},
   "outputs": [],
   "source": [
    "from neo4j import GraphDatabase\n",
    "import json\n",
    "from py2neo import Graph, Node, Relationship, NodeMatcher\n",
    "import spacy"
   ]
  },
  {
   "cell_type": "code",
   "execution_count": 13,
   "id": "035b9b34",
   "metadata": {},
   "outputs": [],
   "source": [
    "graph = Graph(\"neo4j+s://a6801d44.databases.neo4j.io\", user=\"neo4j\", password=\"049h8PxTvW314YzhT1mxjNfkLpTLewtTG7FEZMj0vwY\")"
   ]
  },
  {
   "cell_type": "code",
   "execution_count": 16,
   "id": "4603716a",
   "metadata": {},
   "outputs": [],
   "source": [
    "def create_node_and_relationship(sentence, subjects, objects, relationships):\n",
    "    # Create nodes for subjects and objects\n",
    "    for subject in subjects:\n",
    "        graph.create(Node(\"Subject\", name=subject[0]))\n",
    "    for obj in objects:\n",
    "        graph.create(Node(\"Object\", name=obj[0]))\n",
    "\n",
    "    # Create relationships between subjects and objects\n",
    "    min_length = min(len(subjects), len(objects), len(relationships))\n",
    "    for i in range(min_length):\n",
    "        graph.create(Relationship(Node(\"Subject\", name=subjects[i][0]), relationships[i], Node(\"Object\", name=objects[i][0])))"
   ]
  },
  {
   "cell_type": "code",
   "execution_count": 17,
   "id": "c7ea638c",
   "metadata": {},
   "outputs": [],
   "source": [
    "with open(\"processed_entity_data.txt\", \"r\") as file:\n",
    "    json_data = json.load(file)\n",
    "\n",
    "for data_entry in json_data:\n",
    "    create_node_and_relationship(data_entry[\"sentence\"], data_entry[\"subjects\"], data_entry[\"objects\"], data_entry[\"relationships\"])"
   ]
  },
  {
   "cell_type": "code",
   "execution_count": 32,
   "id": "d02dad1e",
   "metadata": {},
   "outputs": [],
   "source": [
    "def answer_question(question):\n",
    "    # Connect to your Neo4j database\n",
    "    graph = Graph(\"neo4j+s://a6801d44.databases.neo4j.io\", user=\"neo4j\", password=\"049h8PxTvW314YzhT1mxjNfkLpTLewtTG7FEZMj0vwY\")\n",
    "\n",
    " # Tokenize and process the question using spaCy\n",
    "    question_doc = nlp(question)\n",
    "\n",
    "    # Extract relevant information from the question\n",
    "    question_subjects = [token.text.lower() for token in question_doc if token.dep_ in (\"nsubj\", \"nsubjpass\")]\n",
    "\n",
    "    # Query the graph for nodes matching the subject\n",
    "    for question_subject in question_subjects:\n",
    "        print(f\"Processing subject: {question_subject}\")\n",
    "        matching_nodes = graph.nodes.match(\"Subject\", name=question_subject).limit(1)\n",
    "\n",
    "        # Print the relevant information\n",
    "        if matching_nodes:\n",
    "            for node in matching_nodes:\n",
    "                print(f\"Matching node found: {node}\")\n",
    "                out_relations = graph.match((node, None), r_type=\"*\", limit=1)\n",
    "                if out_relations:\n",
    "                    for rel in out_relations:\n",
    "                        print(f\"Outgoing relationship: {rel.type}, Target node: {rel.end_node}\")\n",
    "                else:\n",
    "                    print(f\"No outgoing relationships for node {node}\")\n",
    "        else:\n",
    "            print(f\"No matching nodes found in the graph for subject: {question_subject}\")\n",
    "\n"
   ]
  },
  {
   "cell_type": "code",
   "execution_count": 36,
   "id": "2cd96fa7",
   "metadata": {},
   "outputs": [],
   "source": [
    "nlp = spacy.load(\"en_core_web_sm\")"
   ]
  },
  {
   "cell_type": "code",
   "execution_count": 33,
   "id": "3ed1fe69",
   "metadata": {},
   "outputs": [
    {
     "name": "stdout",
     "output_type": "stream",
     "text": [
      "Processing subject: who\n",
      "Matching node found: (_16:Subject {name: 'who'})\n",
      "No outgoing relationships for node (_16:Subject {name: 'who'})\n"
     ]
    }
   ],
   "source": [
    "question = \"Who won a gold medal in the Bangabandhu Sheikh Mujib Dhaka Marathon?\"\n",
    "answer_question(question)"
   ]
  },
  {
   "cell_type": "code",
   "execution_count": null,
   "id": "81af61a8",
   "metadata": {},
   "outputs": [],
   "source": [
    "def print_graph_info():\n",
    "    # Connect to your Neo4j database\n",
    "    graph = Graph(\"neo4j+s://a6801d44.databases.neo4j.io\", user=\"neo4j\", password=\"049h8PxTvW314YzhT1mxjNfkLpTLewtTG7FEZMj0vwY\")\n",
    "\n",
    "    # Create a NodeMatcher\n",
    "    matcher = NodeMatcher(graph)\n",
    "\n",
    "    # Print information about all relationships in the graph\n",
    "    for rel in graph.relationships:\n",
    "        try:\n",
    "            # Check if the relationship has a type attribute (to filter out integers)\n",
    "            if hasattr(rel, 'type'):\n",
    "                # Print details of the relationship, including type and properties\n",
    "                print(f\"Relationship: {rel.type}, Properties: {dict(rel)}\")\n",
    "\n",
    "                # Attempt to retrieve start and end nodes\n",
    "                start_node = matcher.match(labels=rel.start_node.labels, name=rel.start_node['name']).first()\n",
    "                end_node = matcher.match(labels=rel.end_node.labels, name=rel.end_node['name']).first()\n",
    "\n",
    "                # Check if both start and end nodes are valid\n",
    "                if start_node and end_node:\n",
    "                    print(f\"  Start node: {start_node}\")\n",
    "                    print(f\"  End node: {end_node}\")\n",
    "                else:\n",
    "                    print(f\"  Invalid relationship detected: {rel}\")\n",
    "        except Exception as e:\n",
    "            print(f\"Error processing relationship: {e}\")\n",
    "\n",
    "# Print information about the graph\n",
    "print_graph_info()"
   ]
  },
  {
   "cell_type": "code",
   "execution_count": null,
   "id": "7e9d5c45",
   "metadata": {},
   "outputs": [],
   "source": []
  }
 ],
 "metadata": {
  "kernelspec": {
   "display_name": "Python 3 (ipykernel)",
   "language": "python",
   "name": "python3"
  },
  "language_info": {
   "codemirror_mode": {
    "name": "ipython",
    "version": 3
   },
   "file_extension": ".py",
   "mimetype": "text/x-python",
   "name": "python",
   "nbconvert_exporter": "python",
   "pygments_lexer": "ipython3",
   "version": "3.11.5"
  }
 },
 "nbformat": 4,
 "nbformat_minor": 5
}
