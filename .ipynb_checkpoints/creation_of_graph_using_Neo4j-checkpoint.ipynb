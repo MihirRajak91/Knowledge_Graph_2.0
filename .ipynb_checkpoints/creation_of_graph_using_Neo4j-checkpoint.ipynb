{
 "cells": [
  {
   "cell_type": "code",
   "execution_count": 40,
   "id": "18ef2f4c",
   "metadata": {},
   "outputs": [],
   "source": [
    "from neo4j import GraphDatabase\n",
    "import json\n",
    "from py2neo import Graph, Node, Relationship, NodeMatcher\n",
    "import spacy"
   ]
  },
  {
   "cell_type": "code",
   "execution_count": 13,
   "id": "8d987cda",
   "metadata": {},
   "outputs": [],
   "source": [
    "graph = Graph(\"neo4j+s://a6801d44.databases.neo4j.io\", user=\"neo4j\", password=\"049h8PxTvW314YzhT1mxjNfkLpTLewtTG7FEZMj0vwY\")"
   ]
  },
  {
   "cell_type": "code",
   "execution_count": 16,
   "id": "5859673d",
   "metadata": {},
   "outputs": [],
   "source": [
    "def create_node_and_relationship(sentence, subjects, objects, relationships):\n",
    "    # Create nodes for subjects and objects\n",
    "    for subject in subjects:\n",
    "        graph.create(Node(\"Subject\", name=subject[0]))\n",
    "    for obj in objects:\n",
    "        graph.create(Node(\"Object\", name=obj[0]))\n",
    "\n",
    "    # Create relationships between subjects and objects\n",
    "    min_length = min(len(subjects), len(objects), len(relationships))\n",
    "    for i in range(min_length):\n",
    "        graph.create(Relationship(Node(\"Subject\", name=subjects[i][0]), relationships[i], Node(\"Object\", name=objects[i][0])))"
   ]
  },
  {
   "cell_type": "code",
   "execution_count": 17,
   "id": "4627af33",
   "metadata": {},
   "outputs": [],
   "source": [
    "with open(\"processed_entity_data.txt\", \"r\") as file:\n",
    "    json_data = json.load(file)\n",
    "\n",
    "for data_entry in json_data:\n",
    "    create_node_and_relationship(data_entry[\"sentence\"], data_entry[\"subjects\"], data_entry[\"objects\"], data_entry[\"relationships\"])"
   ]
  },
  {
   "cell_type": "code",
   "execution_count": 32,
   "id": "928a9600",
   "metadata": {},
   "outputs": [],
   "source": [
    "def answer_question(question):\n",
    "    # Connect to your Neo4j database\n",
    "    graph = Graph(\"neo4j+s://a6801d44.databases.neo4j.io\", user=\"neo4j\", password=\"049h8PxTvW314YzhT1mxjNfkLpTLewtTG7FEZMj0vwY\")\n",
    "\n",
    " # Tokenize and process the question using spaCy\n",
    "    question_doc = nlp(question)\n",
    "\n",
    "    # Extract relevant information from the question\n",
    "    question_subjects = [token.text.lower() for token in question_doc if token.dep_ in (\"nsubj\", \"nsubjpass\")]\n",
    "\n",
    "    # Query the graph for nodes matching the subject\n",
    "    for question_subject in question_subjects:\n",
    "        print(f\"Processing subject: {question_subject}\")\n",
    "        matching_nodes = graph.nodes.match(\"Subject\", name=question_subject).limit(1)\n",
    "\n",
    "        # Print the relevant information\n",
    "        if matching_nodes:\n",
    "            for node in matching_nodes:\n",
    "                print(f\"Matching node found: {node}\")\n",
    "                out_relations = graph.match((node, None), r_type=\"*\", limit=1)\n",
    "                if out_relations:\n",
    "                    for rel in out_relations:\n",
    "                        print(f\"Outgoing relationship: {rel.type}, Target node: {rel.end_node}\")\n",
    "                else:\n",
    "                    print(f\"No outgoing relationships for node {node}\")\n",
    "        else:\n",
    "            print(f\"No matching nodes found in the graph for subject: {question_subject}\")\n",
    "\n"
   ]
  },
  {
   "cell_type": "code",
   "execution_count": 36,
   "id": "412dbc25",
   "metadata": {},
   "outputs": [],
   "source": [
    "nlp = spacy.load(\"en_core_web_sm\")"
   ]
  },
  {
   "cell_type": "code",
   "execution_count": 33,
   "id": "feb96be3",
   "metadata": {},
   "outputs": [
    {
     "name": "stdout",
     "output_type": "stream",
     "text": [
      "Processing subject: who\n",
      "Matching node found: (_16:Subject {name: 'who'})\n",
      "No outgoing relationships for node (_16:Subject {name: 'who'})\n"
     ]
    }
   ],
   "source": [
    "question = \"Who won a gold medal in the Bangabandhu Sheikh Mujib Dhaka Marathon?\"\n",
    "answer_question(question)"
   ]
  },
  {
   "cell_type": "code",
   "execution_count": 47,
   "id": "1a788c0c",
   "metadata": {},
   "outputs": [
    {
     "ename": "AttributeError",
     "evalue": "'int' object has no attribute 'start_node'",
     "output_type": "error",
     "traceback": [
      "\u001b[1;31m---------------------------------------------------------------------------\u001b[0m",
      "\u001b[1;31mAttributeError\u001b[0m                            Traceback (most recent call last)",
      "Cell \u001b[1;32mIn[47], line 15\u001b[0m\n\u001b[0;32m     12\u001b[0m         \u001b[38;5;28mprint\u001b[39m(\u001b[38;5;124mf\u001b[39m\u001b[38;5;124m\"\u001b[39m\u001b[38;5;124mRelationship: \u001b[39m\u001b[38;5;132;01m{\u001b[39;00mrel\u001b[38;5;241m.\u001b[39mtype\u001b[38;5;132;01m}\u001b[39;00m\u001b[38;5;124m, Start node: \u001b[39m\u001b[38;5;132;01m{\u001b[39;00mstart_node\u001b[38;5;132;01m}\u001b[39;00m\u001b[38;5;124m, End node: \u001b[39m\u001b[38;5;132;01m{\u001b[39;00mend_node\u001b[38;5;132;01m}\u001b[39;00m\u001b[38;5;124m\"\u001b[39m)\n\u001b[0;32m     14\u001b[0m \u001b[38;5;66;03m# Print information about the graph\u001b[39;00m\n\u001b[1;32m---> 15\u001b[0m \u001b[43mprint_graph_info\u001b[49m\u001b[43m(\u001b[49m\u001b[43m)\u001b[49m\n",
      "Cell \u001b[1;32mIn[47], line 10\u001b[0m, in \u001b[0;36mprint_graph_info\u001b[1;34m()\u001b[0m\n\u001b[0;32m      8\u001b[0m \u001b[38;5;66;03m# Print information about all relationships in the graph\u001b[39;00m\n\u001b[0;32m      9\u001b[0m \u001b[38;5;28;01mfor\u001b[39;00m rel \u001b[38;5;129;01min\u001b[39;00m graph\u001b[38;5;241m.\u001b[39mrelationships:\n\u001b[1;32m---> 10\u001b[0m     start_node \u001b[38;5;241m=\u001b[39m matcher\u001b[38;5;241m.\u001b[39mmatch(\u001b[43mrel\u001b[49m\u001b[38;5;241;43m.\u001b[39;49m\u001b[43mstart_node\u001b[49m\u001b[38;5;241m.\u001b[39mlabels)\u001b[38;5;241m.\u001b[39mwhere(\u001b[38;5;124m\"\u001b[39m\u001b[38;5;124m_.name = $name\u001b[39m\u001b[38;5;124m\"\u001b[39m)\u001b[38;5;241m.\u001b[39mparam(\u001b[38;5;124m\"\u001b[39m\u001b[38;5;124mname\u001b[39m\u001b[38;5;124m\"\u001b[39m, rel\u001b[38;5;241m.\u001b[39mstart_node[\u001b[38;5;124m'\u001b[39m\u001b[38;5;124mname\u001b[39m\u001b[38;5;124m'\u001b[39m])\u001b[38;5;241m.\u001b[39mfirst()\n\u001b[0;32m     11\u001b[0m     end_node \u001b[38;5;241m=\u001b[39m matcher\u001b[38;5;241m.\u001b[39mmatch(rel\u001b[38;5;241m.\u001b[39mend_node\u001b[38;5;241m.\u001b[39mlabels)\u001b[38;5;241m.\u001b[39mwhere(\u001b[38;5;124m\"\u001b[39m\u001b[38;5;124m_.name = $name\u001b[39m\u001b[38;5;124m\"\u001b[39m)\u001b[38;5;241m.\u001b[39mparam(\u001b[38;5;124m\"\u001b[39m\u001b[38;5;124mname\u001b[39m\u001b[38;5;124m\"\u001b[39m, rel\u001b[38;5;241m.\u001b[39mend_node[\u001b[38;5;124m'\u001b[39m\u001b[38;5;124mname\u001b[39m\u001b[38;5;124m'\u001b[39m])\u001b[38;5;241m.\u001b[39mfirst()\n\u001b[0;32m     12\u001b[0m     \u001b[38;5;28mprint\u001b[39m(\u001b[38;5;124mf\u001b[39m\u001b[38;5;124m\"\u001b[39m\u001b[38;5;124mRelationship: \u001b[39m\u001b[38;5;132;01m{\u001b[39;00mrel\u001b[38;5;241m.\u001b[39mtype\u001b[38;5;132;01m}\u001b[39;00m\u001b[38;5;124m, Start node: \u001b[39m\u001b[38;5;132;01m{\u001b[39;00mstart_node\u001b[38;5;132;01m}\u001b[39;00m\u001b[38;5;124m, End node: \u001b[39m\u001b[38;5;132;01m{\u001b[39;00mend_node\u001b[38;5;132;01m}\u001b[39;00m\u001b[38;5;124m\"\u001b[39m)\n",
      "\u001b[1;31mAttributeError\u001b[0m: 'int' object has no attribute 'start_node'"
     ]
    }
   ],
   "source": [
    "def print_graph_info():\n",
    "    # Connect to your Neo4j database\n",
    "    graph = Graph(\"neo4j+s://a6801d44.databases.neo4j.io\", user=\"neo4j\", password=\"049h8PxTvW314YzhT1mxjNfkLpTLewtTG7FEZMj0vwY\")\n",
    "\n",
    "    # Create a NodeMatcher\n",
    "    matcher = NodeMatcher(graph)\n",
    "\n",
    "    # Print information about all relationships in the graph\n",
    "    for rel in graph.relationships:\n",
    "        start_node = matcher.match(rel.start_node.labels).where(\"_.name = $name\").param(\"name\", rel.start_node['name']).first()\n",
    "        end_node = matcher.match(rel.end_node.labels).where(\"_.name = $name\").param(\"name\", rel.end_node['name']).first()\n",
    "        print(f\"Relationship: {rel.type}, Start node: {start_node}, End node: {end_node}\")\n",
    "\n",
    "# Print information about the graph\n",
    "print_graph_info()"
   ]
  },
  {
   "cell_type": "code",
   "execution_count": 46,
   "id": "0c5d10a3",
   "metadata": {},
   "outputs": [],
   "source": [
    "print_graph_info()"
   ]
  },
  {
   "cell_type": "code",
   "execution_count": null,
   "id": "05785272",
   "metadata": {},
   "outputs": [],
   "source": []
  }
 ],
 "metadata": {
  "kernelspec": {
   "display_name": "Python 3 (ipykernel)",
   "language": "python",
   "name": "python3"
  },
  "language_info": {
   "codemirror_mode": {
    "name": "ipython",
    "version": 3
   },
   "file_extension": ".py",
   "mimetype": "text/x-python",
   "name": "python",
   "nbconvert_exporter": "python",
   "pygments_lexer": "ipython3",
   "version": "3.11.5"
  }
 },
 "nbformat": 4,
 "nbformat_minor": 5
}
